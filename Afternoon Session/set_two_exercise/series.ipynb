{
 "cells": [
  {
   "cell_type": "code",
   "execution_count": 1,
   "metadata": {},
   "outputs": [],
   "source": [
    "import pandas as pd"
   ]
  },
  {
   "cell_type": "code",
   "execution_count": 2,
   "metadata": {},
   "outputs": [
    {
     "name": "stdout",
     "output_type": "stream",
     "text": [
      "False\n"
     ]
    }
   ],
   "source": [
    "# 1) Compare two panda series\n",
    "serie_one = pd.Series([4,65,436,3,9])\n",
    "serie_two = pd.Series([7,0,3,897,9])\n",
    "\n",
    "serie_one.equals(serie_two) #Or\n",
    "\n",
    "if(serie_one.items()==serie_two.items()):\n",
    "    print(True)\n",
    "else:\n",
    "    print(False)"
   ]
  },
  {
   "cell_type": "code",
   "execution_count": 3,
   "metadata": {},
   "outputs": [
    {
     "name": "stdout",
     "output_type": "stream",
     "text": [
      "#Addition\n",
      "0     3\n",
      "1     7\n",
      "2    11\n",
      "3    15\n",
      "4    23\n",
      "dtype: int64\n",
      "#Subtraction\n",
      "0    1\n",
      "1    1\n",
      "2    1\n",
      "3    1\n",
      "4    5\n",
      "dtype: int64\n",
      "#Multiplication\n",
      "0      2\n",
      "1     12\n",
      "2     30\n",
      "3     56\n",
      "4    126\n",
      "dtype: int64\n",
      "#Division\n",
      "0    2.000000\n",
      "1    1.333333\n",
      "2    1.200000\n",
      "3    1.142857\n",
      "4    1.555556\n",
      "dtype: float64\n"
     ]
    }
   ],
   "source": [
    "# 2) Add, subtract, multiply and divide\n",
    "sample_one = [2,4,6,8,14]\n",
    "sample_two = [1,3,5,7,9]\n",
    "\n",
    "serie_one = pd.Series(sample_one)\n",
    "serie_two = pd.Series(sample_two)\n",
    "\n",
    "#Addition\n",
    "print(\"#Addition\")\n",
    "addition_res = serie_one.add(serie_two)\n",
    "addition_res = serie_one+serie_two\n",
    "print(addition_res)\n",
    "\n",
    "#Subtraction\n",
    "print(\"#Subtraction\")\n",
    "subtraction_res = serie_one.subtract(serie_two)\n",
    "subtraction_res = serie_one.sub(serie_two)\n",
    "subtraction_res = serie_one-serie_two\n",
    "print(subtraction_res)\n",
    "\n",
    "#Multiplication\n",
    "print(\"#Multiplication\")\n",
    "multiplication_res = serie_one.multiply(serie_two)\n",
    "multiplication_res = serie_one.mul(serie_two)\n",
    "multiplication_res = serie_one*serie_two\n",
    "print(multiplication_res)\n",
    "\n",
    "#Division\n",
    "print(\"#Division\")\n",
    "division_res = serie_one.divide(serie_two)\n",
    "division_res = serie_one.div(serie_two)\n",
    "division_res = serie_one/serie_two\n",
    "print(division_res)\n"
   ]
  },
  {
   "cell_type": "code",
   "execution_count": 4,
   "metadata": {},
   "outputs": [
    {
     "name": "stdout",
     "output_type": "stream",
     "text": [
      "<class 'pandas.core.series.Series'>\n"
     ]
    }
   ],
   "source": [
    "# 3) converting a dictionary to a Pandas series. \n",
    "dictionary1 = {'Josh': 24, 'Sam': 36, 'Peace': 19, 'Charles': 65, 'Tom': 44}\n",
    "dictionary1_serie = pd.Series(dictionary1)\n",
    "print(type(dictionary1_serie))"
   ]
  },
  {
   "cell_type": "code",
   "execution_count": 5,
   "metadata": {},
   "outputs": [
    {
     "name": "stdout",
     "output_type": "stream",
     "text": [
      "<class 'numpy.ndarray'>\n"
     ]
    }
   ],
   "source": [
    "# 4) Converting a given series to an array\n",
    "import numpy as np\n",
    "\n",
    "sample_series = ['Love', 800, 'Joy', 789.9, 'Peace', True]\n",
    "\n",
    "array = np.array(sample_series)\n",
    "print(type(array))"
   ]
  },
  {
   "cell_type": "code",
   "execution_count": 6,
   "metadata": {},
   "outputs": [
    {
     "name": "stdout",
     "output_type": "stream",
     "text": [
      "0    1.0\n",
      "Name: HomeTeamGoals, dtype: float64\n",
      "0    Other\n",
      "Name: HomeTeamGoals, dtype: object\n"
     ]
    },
    {
     "name": "stderr",
     "output_type": "stream",
     "text": [
      "/tmp/ipykernel_4793/3334704528.py:10: FutureWarning: Setting an item of incompatible dtype is deprecated and will raise an error in a future version of pandas. Value 'Other' has dtype incompatible with float64, please explicitly cast to a compatible dtype first.\n",
      "  data_set_serie.loc[data_set_serie != most_frequent_team_goals_value[0]] = 'Other'\n"
     ]
    }
   ],
   "source": [
    "# 5) display the most frequent value in the given series and replace everything else as ‘Other’ in the series. \n",
    "\n",
    "import pandas as pd\n",
    "\n",
    "data_set = pd.read_csv('data/AfricaCupofNationsMatches.csv')\n",
    "data_set_serie = pd.Series(data_set['HomeTeamGoals'])\n",
    "most_frequent_team_goals_value = data_set_serie.mode()\n",
    "print(most_frequent_team_goals_value)\n",
    "\n",
    "data_set_serie.loc[data_set_serie != most_frequent_team_goals_value[0]] = 'Other'\n",
    "print(data_set_serie.mode())\n",
    "\n",
    "# data_set_serie = data_set_serie.apply(lambda x: x if x == most_frequent_team_goals_value else 'Other')\n",
    "\n"
   ]
  }
 ],
 "metadata": {
  "kernelspec": {
   "display_name": "base",
   "language": "python",
   "name": "python3"
  },
  "language_info": {
   "codemirror_mode": {
    "name": "ipython",
    "version": 3
   },
   "file_extension": ".py",
   "mimetype": "text/x-python",
   "name": "python",
   "nbconvert_exporter": "python",
   "pygments_lexer": "ipython3",
   "version": "3.11.7"
  }
 },
 "nbformat": 4,
 "nbformat_minor": 2
}
